{
 "cells": [
  {
   "cell_type": "code",
   "execution_count": 1,
   "metadata": {},
   "outputs": [],
   "source": [
    "import pandas as pd\n",
    "import numpy as np\n",
    "import os\n",
    "import sys"
   ]
  },
  {
   "cell_type": "code",
   "execution_count": 2,
   "metadata": {},
   "outputs": [],
   "source": [
    "# created from 2_Create_feature_blosum.ipynb, to extrac the unique IDs of peptides and MHC\n",
    "train1_Peptide_Unique = pd.read_csv(os.path.join(sys.path[0],\"Analysis/train1_Peptide_Unique.csv\"), index_col=False)\n",
    "train1_MHC_Unique= pd.read_csv(os.path.join(sys.path[0],\"Analysis/train1_MHC_Unique.csv\"), index_col=False)"
   ]
  },
  {
   "attachments": {},
   "cell_type": "markdown",
   "metadata": {},
   "source": [
    "### Train"
   ]
  },
  {
   "cell_type": "code",
   "execution_count": 3,
   "metadata": {},
   "outputs": [
    {
     "name": "stdout",
     "output_type": "stream",
     "text": [
      "(9611, 48)\n",
      "(9611, 150)\n",
      "(9611, 39)\n",
      "(9611, 195)\n",
      "(9611, 39)\n",
      "(9611, 343)\n",
      "(9611, 112)\n",
      "(9611, 34)\n",
      "(9611, 68)\n"
     ]
    }
   ],
   "source": [
    "train_Peptide_APAAC = pd.read_csv(os.path.join(sys.path[0],\"Analysis/Peptide_train_APAAC.csv\"), sep='\\t').iloc[:,1:]\n",
    "print(train_Peptide_APAAC.shape)\n",
    "\n",
    "train_Peptide_CKSAAGP = pd.read_csv(os.path.join(sys.path[0],\"Analysis/Peptide_train_CKSAAGP.csv\"), sep='\\t').iloc[:,1:]\n",
    "print(train_Peptide_CKSAAGP.shape)\n",
    "\n",
    "train_Peptide_CTDC = pd.read_csv(os.path.join(sys.path[0],\"Analysis/Peptide_train_CTDC.csv\"), sep='\\t').iloc[:,1:]\n",
    "print(train_Peptide_CTDC.shape)\n",
    "\n",
    "train_Peptide_CTDD = pd.read_csv(os.path.join(sys.path[0],\"Analysis/Peptide_train_CTDD.csv\"), sep='\\t').iloc[:,1:]\n",
    "print(train_Peptide_CTDD.shape)\n",
    "\n",
    "train_Peptide_CTDT = pd.read_csv(os.path.join(sys.path[0],\"Analysis/Peptide_train_CTDT.csv\"), sep='\\t').iloc[:,1:]\n",
    "print(train_Peptide_CTDT.shape)\n",
    "\n",
    "\n",
    "train_Peptide_KSCTriad = pd.read_csv(os.path.join(sys.path[0],\"Analysis/Peptide_train_KSCTriad.csv\"), sep='\\t').iloc[:,1:]\n",
    "print(train_Peptide_KSCTriad.shape)\n",
    "\n",
    "train_Peptide_NMBroto = pd.read_csv(os.path.join(sys.path[0],\"Analysis/Peptide_train_NMBroto.csv\"), sep='\\t').iloc[:,1:]\n",
    "print(train_Peptide_NMBroto.shape)\n",
    "\n",
    "train_Peptide_PAAC = pd.read_csv(os.path.join(sys.path[0],\"Analysis/Peptide_train_PAAC.csv\"), sep='\\t').iloc[:,1:]\n",
    "print(train_Peptide_PAAC.shape)\n",
    "\n",
    "train_Peptide_QSOrder = pd.read_csv(os.path.join(sys.path[0],\"Analysis/Peptide_train_QSOrder.csv\"), sep='\\t').iloc[:,1:]\n",
    "print(train_Peptide_QSOrder.shape)\n"
   ]
  },
  {
   "cell_type": "code",
   "execution_count": 4,
   "metadata": {},
   "outputs": [
    {
     "name": "stdout",
     "output_type": "stream",
     "text": [
      "(52, 48)\n",
      "(52, 150)\n",
      "(52, 39)\n",
      "(52, 195)\n",
      "(52, 39)\n",
      "(52, 343)\n",
      "(52, 112)\n",
      "(52, 34)\n",
      "(52, 68)\n"
     ]
    }
   ],
   "source": [
    "train_MHC_APAAC = pd.read_csv(os.path.join(sys.path[0],\"Analysis/MHC_train_APAAC.csv\"), sep='\\t').iloc[:,1:]\n",
    "print(train_MHC_APAAC.shape)\n",
    "\n",
    "train_MHC_CKSAAGP = pd.read_csv(os.path.join(sys.path[0],\"Analysis/MHC_train_CKSAAGP.csv\"), sep='\\t').iloc[:,1:]\n",
    "print(train_MHC_CKSAAGP.shape)\n",
    "\n",
    "train_MHC_CTDC = pd.read_csv(os.path.join(sys.path[0],\"Analysis/MHC_train_CTDC.csv\"), sep='\\t').iloc[:,1:]\n",
    "print(train_MHC_CTDC.shape)\n",
    "\n",
    "train_MHC_CTDD = pd.read_csv(os.path.join(sys.path[0],\"Analysis/MHC_train_CTDD.csv\"), sep='\\t').iloc[:,1:]\n",
    "print(train_MHC_CTDD.shape)\n",
    "\n",
    "train_MHC_CTDT = pd.read_csv(os.path.join(sys.path[0],\"Analysis/MHC_train_CTDT.csv\"), sep='\\t').iloc[:,1:]\n",
    "print(train_MHC_CTDT.shape)\n",
    "\n",
    "train_MHC_KSCTriad = pd.read_csv(os.path.join(sys.path[0],\"Analysis/MHC_train_KSCTriad.csv\"), sep='\\t').iloc[:,1:]\n",
    "print(train_MHC_KSCTriad.shape)\n",
    "\n",
    "train_MHC_NMBroto = pd.read_csv(os.path.join(sys.path[0],\"Analysis/MHC_train_NMBroto.csv\"), sep='\\t').iloc[:,1:]\n",
    "print(train_MHC_NMBroto.shape)\n",
    "\n",
    "train_MHC_PAAC = pd.read_csv(os.path.join(sys.path[0],\"Analysis/MHC_train_PAAC.csv\"), sep='\\t').iloc[:,1:]\n",
    "print(train_MHC_PAAC.shape)\n",
    "\n",
    "train_MHC_QSOrder = pd.read_csv(os.path.join(sys.path[0],\"Analysis/MHC_train_QSOrder.csv\"), sep='\\t').iloc[:,1:]\n",
    "print(train_MHC_QSOrder.shape)\n"
   ]
  },
  {
   "cell_type": "code",
   "execution_count": 5,
   "metadata": {},
   "outputs": [
    {
     "name": "stdout",
     "output_type": "stream",
     "text": [
      "(52, 1029)\n",
      "(9611, 1029)\n"
     ]
    }
   ],
   "source": [
    "MHC_feature = pd.concat([train1_MHC_Unique[[\"MHC\"]], \n",
    "train_MHC_APAAC, train_MHC_CKSAAGP, train_MHC_CTDC, train_MHC_CTDD, train_MHC_CTDT,\n",
    "train_MHC_KSCTriad, train_MHC_NMBroto,\n",
    "train_MHC_PAAC, train_MHC_QSOrder],axis=1)\n",
    "print(MHC_feature.shape)\n",
    "\n",
    "\n",
    "\n",
    "Peptide_feature = pd.concat([train1_Peptide_Unique[[\"Peptide\"]], \n",
    "train_Peptide_APAAC, train_Peptide_CKSAAGP, train_Peptide_CTDC, train_Peptide_CTDD, train_Peptide_CTDT,\n",
    "train_Peptide_KSCTriad, train_Peptide_NMBroto,\n",
    "train_Peptide_PAAC, train_Peptide_QSOrder],axis=1)\n",
    "print(Peptide_feature.shape)"
   ]
  },
  {
   "cell_type": "code",
   "execution_count": 6,
   "metadata": {},
   "outputs": [],
   "source": [
    "MHC_feature = MHC_feature.add_suffix('_%s' %(\"MHC\"))\n",
    "MHC_feature.rename(columns = {'MHC_MHC':'MHC'}, inplace = True)\n",
    "\n",
    "Peptide_feature = Peptide_feature.add_suffix('_%s' %(\"Peptide\"))\n",
    "Peptide_feature.rename(columns = {'Peptide_Peptide':'Peptide'}, inplace = True)"
   ]
  },
  {
   "cell_type": "code",
   "execution_count": 10,
   "metadata": {},
   "outputs": [],
   "source": [
    "# save MHC and peptide iFeature separately\n",
    "Peptide_feature.to_csv(os.path.join(sys.path[0],\"Analysis/Peptide_unique_ifeature.csv\"), index=False)\n",
    "MHC_feature.to_csv(os.path.join(sys.path[0],\"Analysis/MHC_unique_ifeature.csv\"), index=False)"
   ]
  },
  {
   "attachments": {},
   "cell_type": "markdown",
   "metadata": {},
   "source": [
    "##### create the feature matrix"
   ]
  },
  {
   "cell_type": "code",
   "execution_count": 7,
   "metadata": {},
   "outputs": [
    {
     "name": "stdout",
     "output_type": "stream",
     "text": [
      "(87052, 8)\n"
     ]
    }
   ],
   "source": [
    "train1_sample=pd.read_csv(os.path.join(sys.path[0], \"Analysis/train1_sample.csv\"), index_col=False)\n",
    "print(train1_sample.shape)"
   ]
  },
  {
   "cell_type": "code",
   "execution_count": 8,
   "metadata": {},
   "outputs": [
    {
     "name": "stdout",
     "output_type": "stream",
     "text": [
      "(87052, 1036)\n",
      "(87052, 2064)\n"
     ]
    }
   ],
   "source": [
    "jensen5_Peptide = train1_sample.merge(Peptide_feature, how=\"left\", on=\"Peptide\")\n",
    "print(jensen5_Peptide.shape)\n",
    "\n",
    "jensen5_Peptide_MHC = jensen5_Peptide.merge(MHC_feature, how=\"left\", on=\"MHC\")\n",
    "print(jensen5_Peptide_MHC.shape)\n"
   ]
  },
  {
   "cell_type": "code",
   "execution_count": 9,
   "metadata": {},
   "outputs": [
    {
     "data": {
      "text/plain": [
       "(87052, 2064)"
      ]
     },
     "execution_count": 9,
     "metadata": {},
     "output_type": "execute_result"
    }
   ],
   "source": [
    "jensen5_Peptide_MHC.shape"
   ]
  },
  {
   "cell_type": "code",
   "execution_count": 48,
   "metadata": {},
   "outputs": [],
   "source": [
    "jensen5_Peptide_MHC.to_csv(os.path.join(sys.path[0],\"Analysis/ifeature_train.csv\"), index = False)"
   ]
  },
  {
   "attachments": {},
   "cell_type": "markdown",
   "metadata": {},
   "source": [
    "# Test"
   ]
  },
  {
   "cell_type": "code",
   "execution_count": 9,
   "metadata": {},
   "outputs": [
    {
     "name": "stdout",
     "output_type": "stream",
     "text": [
      "(2778, 48)\n",
      "(2778, 150)\n",
      "(2778, 39)\n",
      "(2778, 195)\n",
      "(2778, 39)\n",
      "(2778, 343)\n",
      "(2778, 112)\n",
      "(2778, 34)\n",
      "(2778, 68)\n"
     ]
    }
   ],
   "source": [
    "test_Peptide_APAAC = pd.read_csv(os.path.join(sys.path[0],\"Analysis/Peptide_test_APAAC.csv\"), sep='\\t').iloc[:,1:]\n",
    "print(test_Peptide_APAAC.shape)\n",
    "\n",
    "test_Peptide_CKSAAGP = pd.read_csv(os.path.join(sys.path[0],\"Analysis/Peptide_test_CKSAAGP.csv\"), sep='\\t').iloc[:,1:]\n",
    "print(test_Peptide_CKSAAGP.shape)\n",
    "\n",
    "test_Peptide_CTDC = pd.read_csv(os.path.join(sys.path[0],\"Analysis/Peptide_test_CTDC.csv\"), sep='\\t').iloc[:,1:]\n",
    "print(test_Peptide_CTDC.shape)\n",
    "\n",
    "test_Peptide_CTDD = pd.read_csv(os.path.join(sys.path[0],\"Analysis/Peptide_test_CTDD.csv\"), sep='\\t').iloc[:,1:]\n",
    "print(test_Peptide_CTDD.shape)\n",
    "\n",
    "test_Peptide_CTDT = pd.read_csv(os.path.join(sys.path[0],\"Analysis/Peptide_test_CTDT.csv\"), sep='\\t').iloc[:,1:]\n",
    "print(test_Peptide_CTDT.shape)\n",
    "\n",
    "\n",
    "test_Peptide_KSCTriad = pd.read_csv(os.path.join(sys.path[0],\"Analysis/Peptide_test_KSCTriad.csv\"), sep='\\t').iloc[:,1:]\n",
    "print(test_Peptide_KSCTriad.shape)\n",
    "\n",
    "test_Peptide_NMBroto = pd.read_csv(os.path.join(sys.path[0],\"Analysis/Peptide_test_NMBroto.csv\"), sep='\\t').iloc[:,1:]\n",
    "print(test_Peptide_NMBroto.shape)\n",
    "\n",
    "test_Peptide_PAAC = pd.read_csv(os.path.join(sys.path[0],\"Analysis/Peptide_test_PAAC.csv\"), sep='\\t').iloc[:,1:]\n",
    "print(test_Peptide_PAAC.shape)\n",
    "\n",
    "test_Peptide_QSOrder = pd.read_csv(os.path.join(sys.path[0],\"Analysis/Peptide_test_QSOrder.csv\"), sep='\\t').iloc[:,1:]\n",
    "print(test_Peptide_QSOrder.shape)\n",
    "\n"
   ]
  },
  {
   "cell_type": "code",
   "execution_count": 12,
   "metadata": {},
   "outputs": [
    {
     "name": "stdout",
     "output_type": "stream",
     "text": [
      "(50, 48)\n",
      "(50, 150)\n",
      "(50, 39)\n",
      "(50, 195)\n",
      "(50, 39)\n",
      "(50, 343)\n",
      "(50, 112)\n",
      "(50, 34)\n",
      "(50, 68)\n"
     ]
    }
   ],
   "source": [
    "\n",
    "test_MHC_APAAC = pd.read_csv(os.path.join(sys.path[0],\"Analysis/MHC_test_APAAC.csv\"), sep='\\t').iloc[:,1:]\n",
    "print(test_MHC_APAAC.shape)\n",
    "\n",
    "test_MHC_CKSAAGP = pd.read_csv(os.path.join(sys.path[0],\"Analysis/MHC_test_CKSAAGP.csv\"), sep='\\t').iloc[:,1:]\n",
    "print(test_MHC_CKSAAGP.shape)\n",
    "\n",
    "test_MHC_CTDC = pd.read_csv(os.path.join(sys.path[0],\"Analysis/MHC_test_CTDC.csv\"), sep='\\t').iloc[:,1:]\n",
    "print(test_MHC_CTDC.shape)\n",
    "\n",
    "test_MHC_CTDD = pd.read_csv(os.path.join(sys.path[0],\"Analysis/MHC_test_CTDD.csv\"), sep='\\t').iloc[:,1:]\n",
    "print(test_MHC_CTDD.shape)\n",
    "\n",
    "test_MHC_CTDT = pd.read_csv(os.path.join(sys.path[0],\"Analysis/MHC_test_CTDT.csv\"), sep='\\t').iloc[:,1:]\n",
    "print(test_MHC_CTDT.shape)\n",
    "\n",
    "test_MHC_KSCTriad = pd.read_csv(os.path.join(sys.path[0],\"Analysis/MHC_test_KSCTriad.csv\"), sep='\\t').iloc[:,1:]\n",
    "print(test_MHC_KSCTriad.shape)\n",
    "\n",
    "test_MHC_NMBroto = pd.read_csv(os.path.join(sys.path[0],\"Analysis/MHC_test_NMBroto.csv\"), sep='\\t').iloc[:,1:]\n",
    "print(test_MHC_NMBroto.shape)\n",
    "\n",
    "test_MHC_PAAC = pd.read_csv(os.path.join(sys.path[0],\"Analysis/MHC_test_PAAC.csv\"), sep='\\t').iloc[:,1:]\n",
    "print(test_MHC_PAAC.shape)\n",
    "\n",
    "test_MHC_QSOrder = pd.read_csv(os.path.join(sys.path[0],\"Analysis/MHC_test_QSOrder.csv\"), sep='\\t').iloc[:,1:]\n",
    "print(test_MHC_QSOrder.shape)"
   ]
  },
  {
   "cell_type": "code",
   "execution_count": 13,
   "metadata": {},
   "outputs": [
    {
     "name": "stdout",
     "output_type": "stream",
     "text": [
      "(52, 1029)\n",
      "(9611, 1029)\n",
      "(21535, 8)\n",
      "(21535, 1036)\n",
      "(21535, 2064)\n"
     ]
    }
   ],
   "source": [
    "test1_Peptide_Unique = pd.read_csv(os.path.join(sys.path[0],\"Analysis/test1_Peptide_Unique.csv\"), index_col=False)\n",
    "test1_MHC_Unique= pd.read_csv(os.path.join(sys.path[0],\"Analysis/test1_MHC_Unique.csv\"), index_col=False)\n",
    "\n",
    "\n",
    "#\n",
    "MHC_feature_test = pd.concat([test1_MHC_Unique[[\"MHC\"]], \n",
    "test_MHC_APAAC, test_MHC_CKSAAGP, test_MHC_CTDC, test_MHC_CTDD, test_MHC_CTDT,\n",
    "test_MHC_KSCTriad, test_MHC_NMBroto,\n",
    "test_MHC_PAAC, test_MHC_QSOrder],axis=1)\n",
    "print(MHC_feature.shape)\n",
    "\n",
    "\n",
    "\n",
    "Peptide_feature_test = pd.concat([test1_Peptide_Unique[[\"Peptide\"]], \n",
    "test_Peptide_APAAC, test_Peptide_CKSAAGP, test_Peptide_CTDC, test_Peptide_CTDD, test_Peptide_CTDT,\n",
    "test_Peptide_KSCTriad, test_Peptide_NMBroto,\n",
    "test_Peptide_PAAC, test_Peptide_QSOrder],axis=1)\n",
    "print(Peptide_feature.shape)\n",
    "\n",
    "\n",
    "\n",
    "#\n",
    "MHC_feature_test = MHC_feature_test.add_suffix('_%s' %(\"MHC\"))\n",
    "MHC_feature_test.rename(columns = {'MHC_MHC':'MHC'}, inplace = True)\n",
    "\n",
    "Peptide_feature_test = Peptide_feature_test.add_suffix('_%s' %(\"Peptide\"))\n",
    "Peptide_feature_test.rename(columns = {'Peptide_Peptide':'Peptide'}, inplace = True)\n",
    "\n",
    "\n",
    "\n",
    "#\n",
    "# save MHC and peptide iFeature separately\n",
    "MHC_feature_test.to_csv(os.path.join(sys.path[0],\"Analysis/Peptide_unique_ifeature_test.csv\"), index=False)\n",
    "MHC_feature_test.to_csv(os.path.join(sys.path[0],\"Analysis/MHC_unique_ifeature_test.csv\"), index=False)\n",
    "\n",
    "\n",
    "#\n",
    "test1_sample=pd.read_csv(os.path.join(sys.path[0], \"Analysis/test1_sample.csv\"), index_col=False)\n",
    "print(test1_sample.shape)\n",
    "\n",
    "\n",
    "\n",
    "#\n",
    "jensen5_Peptide_test = test1_sample.merge(Peptide_feature_test, how=\"left\", on=\"Peptide\")\n",
    "print(jensen5_Peptide_test.shape)\n",
    "\n",
    "jensen5_Peptide_MHC_test = jensen5_Peptide_test.merge(MHC_feature_test, how=\"left\", on=\"MHC\")\n",
    "print(jensen5_Peptide_MHC_test.shape)"
   ]
  },
  {
   "cell_type": "code",
   "execution_count": 37,
   "metadata": {},
   "outputs": [
    {
     "data": {
      "text/html": [
       "<div>\n",
       "<style scoped>\n",
       "    .dataframe tbody tr th:only-of-type {\n",
       "        vertical-align: middle;\n",
       "    }\n",
       "\n",
       "    .dataframe tbody tr th {\n",
       "        vertical-align: top;\n",
       "    }\n",
       "\n",
       "    .dataframe thead th {\n",
       "        text-align: right;\n",
       "    }\n",
       "</style>\n",
       "<table border=\"1\" class=\"dataframe\">\n",
       "  <thead>\n",
       "    <tr style=\"text-align: right;\">\n",
       "      <th></th>\n",
       "      <th>Peptide</th>\n",
       "      <th>Y</th>\n",
       "      <th>MHC_ID</th>\n",
       "      <th>MHC</th>\n",
       "      <th>y</th>\n",
       "      <th>Peptide_L</th>\n",
       "      <th>Peptide_ID</th>\n",
       "      <th>Pair_ID</th>\n",
       "      <th>Pc1.A_Peptide</th>\n",
       "      <th>Pc1.R_Peptide</th>\n",
       "      <th>...</th>\n",
       "      <th>Grantham.Xd.5_MHC</th>\n",
       "      <th>Grantham.Xd.6_MHC</th>\n",
       "      <th>Grantham.Xd.7_MHC</th>\n",
       "      <th>Grantham.Xd.8_MHC</th>\n",
       "      <th>Grantham.Xd.9_MHC</th>\n",
       "      <th>Grantham.Xd.10_MHC</th>\n",
       "      <th>Grantham.Xd.11_MHC</th>\n",
       "      <th>Grantham.Xd.12_MHC</th>\n",
       "      <th>Grantham.Xd.13_MHC</th>\n",
       "      <th>Grantham.Xd.14_MHC</th>\n",
       "    </tr>\n",
       "  </thead>\n",
       "  <tbody>\n",
       "    <tr>\n",
       "      <th>0</th>\n",
       "      <td>AAAAGWQTLSAALDA</td>\n",
       "      <td>0.23891</td>\n",
       "      <td>HLA-DPA10103-DPB10201</td>\n",
       "      <td>YAFFMFSGGAILNTLFGQFEYFDIEEVRMHLGMT</td>\n",
       "      <td>0</td>\n",
       "      <td>15</td>\n",
       "      <td>0</td>\n",
       "      <td>21535</td>\n",
       "      <td>6.39963</td>\n",
       "      <td>0.0</td>\n",
       "      <td>...</td>\n",
       "      <td>0.068447</td>\n",
       "      <td>0.074601</td>\n",
       "      <td>0.070086</td>\n",
       "      <td>0.074694</td>\n",
       "      <td>0.06204</td>\n",
       "      <td>0.05693</td>\n",
       "      <td>0.069367</td>\n",
       "      <td>0.054434</td>\n",
       "      <td>0.059792</td>\n",
       "      <td>0.062244</td>\n",
       "    </tr>\n",
       "  </tbody>\n",
       "</table>\n",
       "<p>1 rows × 2064 columns</p>\n",
       "</div>"
      ],
      "text/plain": [
       "           Peptide        Y                 MHC_ID  \\\n",
       "0  AAAAGWQTLSAALDA  0.23891  HLA-DPA10103-DPB10201   \n",
       "\n",
       "                                  MHC  y  Peptide_L  Peptide_ID  Pair_ID  \\\n",
       "0  YAFFMFSGGAILNTLFGQFEYFDIEEVRMHLGMT  0         15           0    21535   \n",
       "\n",
       "   Pc1.A_Peptide  Pc1.R_Peptide  ...  Grantham.Xd.5_MHC  Grantham.Xd.6_MHC  \\\n",
       "0        6.39963            0.0  ...           0.068447           0.074601   \n",
       "\n",
       "   Grantham.Xd.7_MHC  Grantham.Xd.8_MHC  Grantham.Xd.9_MHC  \\\n",
       "0           0.070086           0.074694            0.06204   \n",
       "\n",
       "   Grantham.Xd.10_MHC  Grantham.Xd.11_MHC  Grantham.Xd.12_MHC  \\\n",
       "0             0.05693            0.069367            0.054434   \n",
       "\n",
       "   Grantham.Xd.13_MHC  Grantham.Xd.14_MHC  \n",
       "0            0.059792            0.062244  \n",
       "\n",
       "[1 rows x 2064 columns]"
      ]
     },
     "execution_count": 37,
     "metadata": {},
     "output_type": "execute_result"
    }
   ],
   "source": [
    "jensen5_Peptide_MHC_test.head(1)"
   ]
  },
  {
   "cell_type": "code",
   "execution_count": 51,
   "metadata": {},
   "outputs": [],
   "source": [
    "jensen5_Peptide_MHC_test.to_csv(os.path.join(sys.path[0],\"Analysis/ifeature_test.csv\"), index=False)\n"
   ]
  }
 ],
 "metadata": {
  "kernelspec": {
   "display_name": "my_tensorflow",
   "language": "python",
   "name": "python3"
  },
  "language_info": {
   "codemirror_mode": {
    "name": "ipython",
    "version": 3
   },
   "file_extension": ".py",
   "mimetype": "text/x-python",
   "name": "python",
   "nbconvert_exporter": "python",
   "pygments_lexer": "ipython3",
   "version": "3.10.8"
  },
  "orig_nbformat": 4,
  "vscode": {
   "interpreter": {
    "hash": "a610de6248b56eaee9e1364ae023def340444b098e1c9bedd32e10334a238d13"
   }
  }
 },
 "nbformat": 4,
 "nbformat_minor": 2
}
