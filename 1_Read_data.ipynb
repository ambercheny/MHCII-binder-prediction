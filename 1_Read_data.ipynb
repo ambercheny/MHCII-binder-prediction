{
 "cells": [
  {
   "cell_type": "code",
   "execution_count": 1,
   "metadata": {},
   "outputs": [],
   "source": [
    "import pandas as pd\n",
    "import numpy as np\n",
    "from Bio import SeqIO\n",
    "import os\n",
    "import sys\n",
    "import math\n",
    "from tdc.multi_pred import PeptideMHC"
   ]
  },
  {
   "attachments": {},
   "cell_type": "markdown",
   "metadata": {},
   "source": [
    "install tdc: https://tdc.readthedocs.io/en/main/install.html"
   ]
  },
  {
   "attachments": {},
   "cell_type": "markdown",
   "metadata": {},
   "source": [
    "### Data from NetMHCII32"
   ]
  },
  {
   "attachments": {},
   "cell_type": "markdown",
   "metadata": {},
   "source": [
    "We used training and test data from NetMHCIIpan 3.2 (https://services.healthtech.dtu.dk/service.php?NetMHCIIpan-3.2) and mhc2_iedb_jensen (https://tdcommons.ai/multi_pred_tasks/peptidemhc/) to match the pseudosequence of MHCII."
   ]
  },
  {
   "cell_type": "code",
   "execution_count": 20,
   "metadata": {},
   "outputs": [
    {
     "name": "stderr",
     "output_type": "stream",
     "text": [
      "Downloading...\n",
      "100%|██████████| 11.8M/11.8M [00:01<00:00, 8.01MiB/s]\n",
      "Loading...\n",
      "Done!\n"
     ]
    }
   ],
   "source": [
    "data = PeptideMHC(name = 'MHC2_IEDB_Jensen')\n",
    "split = data.get_split()"
   ]
  },
  {
   "cell_type": "code",
   "execution_count": 21,
   "metadata": {},
   "outputs": [],
   "source": [
    "jensen = pd.read_csv(os.path.join(sys.path[0],'data/mhc2_iedb_jensen.tab'), sep=\"\\t\")"
   ]
  },
  {
   "cell_type": "code",
   "execution_count": 22,
   "metadata": {},
   "outputs": [
    {
     "data": {
      "text/html": [
       "<div>\n",
       "<style scoped>\n",
       "    .dataframe tbody tr th:only-of-type {\n",
       "        vertical-align: middle;\n",
       "    }\n",
       "\n",
       "    .dataframe tbody tr th {\n",
       "        vertical-align: top;\n",
       "    }\n",
       "\n",
       "    .dataframe thead th {\n",
       "        text-align: right;\n",
       "    }\n",
       "</style>\n",
       "<table border=\"1\" class=\"dataframe\">\n",
       "  <thead>\n",
       "    <tr style=\"text-align: right;\">\n",
       "      <th></th>\n",
       "      <th>Peptide_ID</th>\n",
       "      <th>Peptide</th>\n",
       "      <th>Y</th>\n",
       "      <th>MHC_ID</th>\n",
       "      <th>MHC</th>\n",
       "    </tr>\n",
       "  </thead>\n",
       "  <tbody>\n",
       "    <tr>\n",
       "      <th>0</th>\n",
       "      <td>0</td>\n",
       "      <td>PKYVKQNTLKLAT</td>\n",
       "      <td>0.000000</td>\n",
       "      <td>HLA-DPA10103-DPB10201</td>\n",
       "      <td>YAFFMFSGGAILNTLFGQFEYFDIEEVRMHLGMT</td>\n",
       "    </tr>\n",
       "    <tr>\n",
       "      <th>1</th>\n",
       "      <td>1</td>\n",
       "      <td>DSDVGEFRAVTELG</td>\n",
       "      <td>0.047212</td>\n",
       "      <td>HLA-DPA10103-DPB10201</td>\n",
       "      <td>YAFFMFSGGAILNTLFGQFEYFDIEEVRMHLGMT</td>\n",
       "    </tr>\n",
       "    <tr>\n",
       "      <th>2</th>\n",
       "      <td>2</td>\n",
       "      <td>AAAAGWQTLSAALDA</td>\n",
       "      <td>0.238910</td>\n",
       "      <td>HLA-DPA10103-DPB10201</td>\n",
       "      <td>YAFFMFSGGAILNTLFGQFEYFDIEEVRMHLGMT</td>\n",
       "    </tr>\n",
       "    <tr>\n",
       "      <th>3</th>\n",
       "      <td>3</td>\n",
       "      <td>AALDAQAVELTARLN</td>\n",
       "      <td>0.357937</td>\n",
       "      <td>HLA-DPA10103-DPB10201</td>\n",
       "      <td>YAFFMFSGGAILNTLFGQFEYFDIEEVRMHLGMT</td>\n",
       "    </tr>\n",
       "    <tr>\n",
       "      <th>4</th>\n",
       "      <td>4</td>\n",
       "      <td>AAPAAGYTPATPAAP</td>\n",
       "      <td>0.076722</td>\n",
       "      <td>HLA-DPA10103-DPB10201</td>\n",
       "      <td>YAFFMFSGGAILNTLFGQFEYFDIEEVRMHLGMT</td>\n",
       "    </tr>\n",
       "  </tbody>\n",
       "</table>\n",
       "</div>"
      ],
      "text/plain": [
       "   Peptide_ID          Peptide         Y                 MHC_ID  \\\n",
       "0           0    PKYVKQNTLKLAT  0.000000  HLA-DPA10103-DPB10201   \n",
       "1           1   DSDVGEFRAVTELG  0.047212  HLA-DPA10103-DPB10201   \n",
       "2           2  AAAAGWQTLSAALDA  0.238910  HLA-DPA10103-DPB10201   \n",
       "3           3  AALDAQAVELTARLN  0.357937  HLA-DPA10103-DPB10201   \n",
       "4           4  AAPAAGYTPATPAAP  0.076722  HLA-DPA10103-DPB10201   \n",
       "\n",
       "                                  MHC  \n",
       "0  YAFFMFSGGAILNTLFGQFEYFDIEEVRMHLGMT  \n",
       "1  YAFFMFSGGAILNTLFGQFEYFDIEEVRMHLGMT  \n",
       "2  YAFFMFSGGAILNTLFGQFEYFDIEEVRMHLGMT  \n",
       "3  YAFFMFSGGAILNTLFGQFEYFDIEEVRMHLGMT  \n",
       "4  YAFFMFSGGAILNTLFGQFEYFDIEEVRMHLGMT  "
      ]
     },
     "execution_count": 22,
     "metadata": {},
     "output_type": "execute_result"
    }
   ],
   "source": [
    "jensen.columns = ['Peptide_ID', 'Peptide', 'Y', 'MHC_ID', 'MHC']\n",
    "jensen.head()\n"
   ]
  },
  {
   "cell_type": "code",
   "execution_count": 6,
   "metadata": {},
   "outputs": [
    {
     "name": "stdout",
     "output_type": "stream",
     "text": [
      "(80, 2) 75\n"
     ]
    }
   ],
   "source": [
    "unique_MHC = jensen[[\"MHC_ID\", \"MHC\"]].drop_duplicates(subset=[\"MHC_ID\", \"MHC\"]).reset_index(drop=True)\n",
    "print(unique_MHC.shape, unique_MHC.MHC.nunique())"
   ]
  },
  {
   "cell_type": "code",
   "execution_count": 7,
   "metadata": {},
   "outputs": [],
   "source": [
    "def read_dataset(fold_number):\n",
    "    train1=pd.read_csv(os.path.join(sys.path[0],\"NetMHCIIpan32/train%d.txt\"%(fold_number)) , sep=\"\\t\", header=None, names=[\"Peptide\", \"Y\", \"MHC_ID\"])\n",
    "    test1=pd.read_csv(os.path.join(sys.path[0],\"NetMHCIIpan32/test%d.txt\"%(fold_number)), sep=\"\\t\", header=None, names=[\"Peptide\", \"Y\", \"MHC_ID\"])\n",
    "\n",
    "\n",
    "    train1_1 = train1[train1[\"MHC_ID\"].isin(list(unique_MHC.MHC_ID.values))]\n",
    "    train1_1 = train1_1.merge(unique_MHC, on=[\"MHC_ID\"], how=\"left\")\n",
    "    test1_1 = test1[test1[\"MHC_ID\"].isin(list(unique_MHC.MHC_ID.values))]\n",
    "    test1_1 = test1_1.merge(unique_MHC, on=[\"MHC_ID\"], how=\"left\")\n",
    "\n",
    "    print(train1_1.shape)\n",
    "    print(test1_1.shape)\n",
    "\n",
    "    return train1_1, test1_1"
   ]
  },
  {
   "cell_type": "code",
   "execution_count": 8,
   "metadata": {},
   "outputs": [
    {
     "name": "stdout",
     "output_type": "stream",
     "text": [
      "(106949, 4)\n",
      "(27332, 4)\n"
     ]
    }
   ],
   "source": [
    "train1, test1 = read_dataset(1)"
   ]
  },
  {
   "attachments": {},
   "cell_type": "markdown",
   "metadata": {},
   "source": [
    "### include only human data"
   ]
  },
  {
   "cell_type": "code",
   "execution_count": 9,
   "metadata": {},
   "outputs": [],
   "source": [
    "# exclude mice data\n",
    "def exclude_mice(df):\n",
    "    jensen2 = df[~(df[\"MHC_ID\"].str.contains(\"H-2\"))].reset_index(drop=True)\n",
    "\n",
    "    print(jensen2.shape)\n",
    "    print(jensen2.MHC_ID.nunique())\n",
    "\n",
    "    return jensen2"
   ]
  },
  {
   "cell_type": "code",
   "execution_count": 10,
   "metadata": {},
   "outputs": [
    {
     "name": "stdout",
     "output_type": "stream",
     "text": [
      "(104266, 4)\n",
      "72\n",
      "(26742, 4)\n",
      "65\n"
     ]
    }
   ],
   "source": [
    "train1_1 = exclude_mice(train1)\n",
    "test1_1 = exclude_mice(test1)"
   ]
  },
  {
   "attachments": {},
   "cell_type": "markdown",
   "metadata": {},
   "source": [
    "### create outcomes"
   ]
  },
  {
   "cell_type": "code",
   "execution_count": 11,
   "metadata": {},
   "outputs": [],
   "source": [
    "def create_outcome(df):\n",
    "    df[\"y\"] = (df[\"Y\"]>0.426).astype(int) \n",
    "    print(df.y.value_counts())\n",
    "    return df\n",
    "# 1: binders"
   ]
  },
  {
   "cell_type": "code",
   "execution_count": 12,
   "metadata": {},
   "outputs": [
    {
     "name": "stdout",
     "output_type": "stream",
     "text": [
      "0    60127\n",
      "1    44139\n",
      "Name: y, dtype: int64\n",
      "0    15893\n",
      "1    10849\n",
      "Name: y, dtype: int64\n"
     ]
    }
   ],
   "source": [
    "train1_1 = create_outcome(train1_1)\n",
    "test1_1 = create_outcome(test1_1)"
   ]
  },
  {
   "attachments": {},
   "cell_type": "markdown",
   "metadata": {},
   "source": [
    "### MHC with more than 20 peptides"
   ]
  },
  {
   "cell_type": "code",
   "execution_count": 13,
   "metadata": {},
   "outputs": [],
   "source": [
    "# with more than 20 peptides\n",
    "def peptide20(df):\n",
    "    jensen2 = df\n",
    "    peptide20=[]\n",
    "    for i in jensen2.MHC_ID.unique():\n",
    "        df_try = jensen2[jensen2[\"MHC_ID\"]==i]\n",
    "        a = len(df_try)\n",
    "        if a >20:\n",
    "            peptide20.append(i)\n",
    "\n",
    "    print(len(peptide20))\n",
    "\n",
    "    jensen4 = jensen2.loc[jensen2[\"MHC_ID\"].isin(peptide20)].reset_index(drop=True)\n",
    "    print(jensen4.MHC_ID.nunique())\n",
    "    print(jensen4.shape)\n",
    "\n",
    "    return jensen4"
   ]
  },
  {
   "cell_type": "code",
   "execution_count": 14,
   "metadata": {},
   "outputs": [
    {
     "name": "stdout",
     "output_type": "stream",
     "text": [
      "58\n",
      "58\n",
      "(104186, 5)\n",
      "50\n",
      "50\n",
      "(26640, 5)\n"
     ]
    }
   ],
   "source": [
    "train1_2 = peptide20(train1_1)\n",
    "test1_2 = peptide20(test1_1)"
   ]
  },
  {
   "attachments": {},
   "cell_type": "markdown",
   "metadata": {},
   "source": [
    "### MHC with at least 4 binders"
   ]
  },
  {
   "cell_type": "code",
   "execution_count": 15,
   "metadata": {},
   "outputs": [],
   "source": [
    "# at least 4 binders\n",
    "## find ID with at least 4 binders\n",
    "\n",
    "def binder4(df):\n",
    "    jensen4=df\n",
    "    peptide4 = []\n",
    "\n",
    "    for i in jensen4.MHC_ID.unique():\n",
    "        df_try = jensen4[jensen4[\"MHC_ID\"]==i]\n",
    "        a = df_try.y.sum()\n",
    "        if a >=4:\n",
    "            peptide4.append(i)\n",
    "\n",
    "    print(len(peptide4))\n",
    "\n",
    "\n",
    "    jensen5 = jensen4.loc[jensen4[\"MHC_ID\"].isin(peptide4)]\n",
    "    jensen5 = jensen5.reset_index(drop=True)\n",
    "    print(jensen5.MHC_ID.nunique())\n",
    "    print(jensen5.shape)\n",
    "    \n",
    "    return jensen5"
   ]
  },
  {
   "cell_type": "code",
   "execution_count": 16,
   "metadata": {},
   "outputs": [
    {
     "name": "stdout",
     "output_type": "stream",
     "text": [
      "53\n",
      "53\n",
      "(104040, 5)\n",
      "50\n",
      "50\n",
      "(26640, 5)\n"
     ]
    }
   ],
   "source": [
    "train1_3 = binder4(train1_2)\n",
    "test1_3 = binder4(test1_2)"
   ]
  },
  {
   "attachments": {},
   "cell_type": "markdown",
   "metadata": {},
   "source": [
    "### calculate peptide length and keep those of length 15"
   ]
  },
  {
   "cell_type": "code",
   "execution_count": 17,
   "metadata": {},
   "outputs": [],
   "source": [
    "def peptideL(df):\n",
    "    df[\"Peptide_L\"] = df.Peptide.str.len()\n",
    "    df = df[df[\"Peptide_L\"]==15].reset_index(drop=True)\n",
    "\n",
    "    # create Peptide_ID and Pair_ID\n",
    "    df[\"Peptide_ID\"] = list(range(0,len(df),1))\n",
    "    df[\"Pair_ID\"]= list(range(len(df),len(df)+len(df),1))\n",
    "    print(df.MHC_ID.nunique())\n",
    "    print(df.shape)\n",
    "    return df"
   ]
  },
  {
   "cell_type": "code",
   "execution_count": 18,
   "metadata": {},
   "outputs": [
    {
     "name": "stdout",
     "output_type": "stream",
     "text": [
      "52\n",
      "(87052, 8)\n",
      "50\n",
      "(21535, 8)\n"
     ]
    }
   ],
   "source": [
    "train1_4 = peptideL(train1_3)\n",
    "test1_4 = peptideL(test1_3)\n"
   ]
  },
  {
   "attachments": {},
   "cell_type": "markdown",
   "metadata": {},
   "source": [
    "### fasta"
   ]
  },
  {
   "cell_type": "code",
   "execution_count": 53,
   "metadata": {},
   "outputs": [],
   "source": [
    "# Separate peptide and MHC and do preprocessing separately\n",
    "\n",
    "def to_fasta(file, filenumber):\n",
    "    print(\"The file %s has %d number of data\" %(filenumber, len(file)))\n",
    "\n",
    "    # Peptide: drop duplicates by sequence\n",
    "    data_peptide = file[[\"Pair_ID\", \"Peptide_ID\", \"Peptide\"]].drop_duplicates(subset=[\"Peptide\"], keep=\"last\")\n",
    "    print(\"unique peptide\", len(data_peptide))\n",
    "\n",
    "    # MHC: drop duplicates by MHC_ID\n",
    "    data_MHC = file[[\"Pair_ID\", \"MHC_ID\", \"MHC\"]].drop_duplicates(subset=[\"MHC_ID\"], keep=\"last\")\n",
    "    print(\"unique MHC\", len(data_MHC))\n",
    "\n",
    "\n",
    "    ## Peptide\n",
    "    \n",
    "    txt_file = os.path.join(sys.path[0],'Analysis/Peptide_%s.txt' %(filenumber))\n",
    "    with open(txt_file, 'w') as f:\n",
    "        for i in data_peptide.index:\n",
    "            \n",
    "            l1 = data_peptide[\"Peptide_ID\"][i].astype(str)\n",
    "            l2 = data_peptide[\"Peptide\"][i]\n",
    "            f.write(l1)\n",
    "            f.write(\"\\t\")\n",
    "            f.write(l2)\n",
    "            f.write(\"\\n\")\n",
    "    \n",
    "    count = SeqIO.convert(os.path.join(sys.path[0],\"Analysis/Peptide_%s.txt\" %(filenumber)), \"tab\", os.path.join(sys.path[0],\"Analysis/Peptide_%s.fasta\"%(filenumber)), \"fasta\")\n",
    "    print(\"Converted %i records\" % count)\n",
    "\n",
    "    ## MHC\n",
    "\n",
    "    txt_file = os.path.join(sys.path[0],'Analysis/MHC_%s.txt'%(filenumber))\n",
    "    with open(txt_file, 'w') as f:\n",
    "        for i in data_MHC.index:\n",
    "            l1 = data_MHC[\"MHC_ID\"][i]\n",
    "            l2 = data_MHC[\"MHC\"][i]\n",
    "\n",
    "            f.write(l1)\n",
    "            f.write(\"\\t\")\n",
    "            f.write(l2)\n",
    "            f.write(\"\\n\")\n",
    "\n",
    "\n",
    "    count = SeqIO.convert(os.path.join(sys.path[0],\"Analysis/MHC_%s.txt\" %(filenumber)), \"tab\", os.path.join(sys.path[0],\"Analysis/MHC_%s.fasta\" %(filenumber)), \"fasta\")\n",
    "    print(\"Converted %i records\" % count)\n",
    "\n"
   ]
  },
  {
   "cell_type": "code",
   "execution_count": 54,
   "metadata": {},
   "outputs": [
    {
     "name": "stdout",
     "output_type": "stream",
     "text": [
      "The file train1_train has 87052 number of data\n",
      "unique peptide 9611\n",
      "unique MHC 52\n",
      "Converted 9611 records\n",
      "Converted 52 records\n",
      "The file train1_test has 21535 number of data\n",
      "unique peptide 2778\n",
      "unique MHC 50\n",
      "Converted 2778 records\n",
      "Converted 50 records\n"
     ]
    }
   ],
   "source": [
    "to_fasta(train1_4, \"train1_train\")\n",
    "to_fasta(test1_4, \"train1_test\")"
   ]
  },
  {
   "cell_type": "code",
   "execution_count": 56,
   "metadata": {},
   "outputs": [],
   "source": [
    "# also save the filtered datasets\n",
    "train1_4.to_csv(os.path.join(sys.path[0], \"Analysis/train1_sample.csv\"), index=False)\n",
    "test1_4.to_csv(os.path.join(sys.path[0], \"Analysis/test1_sample.csv\"), index=False)"
   ]
  },
  {
   "cell_type": "code",
   "execution_count": null,
   "metadata": {},
   "outputs": [],
   "source": []
  }
 ],
 "metadata": {
  "kernelspec": {
   "display_name": "myenv39",
   "language": "python",
   "name": "python3"
  },
  "language_info": {
   "codemirror_mode": {
    "name": "ipython",
    "version": 3
   },
   "file_extension": ".py",
   "mimetype": "text/x-python",
   "name": "python",
   "nbconvert_exporter": "python",
   "pygments_lexer": "ipython3",
   "version": "3.9.12"
  },
  "orig_nbformat": 4,
  "vscode": {
   "interpreter": {
    "hash": "70e9a48dd374aa96e60df7ff6ca039f6318800959a997ae7b225b8e149af7341"
   }
  }
 },
 "nbformat": 4,
 "nbformat_minor": 2
}
