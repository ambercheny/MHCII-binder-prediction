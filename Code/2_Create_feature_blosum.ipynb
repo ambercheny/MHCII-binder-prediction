{
 "cells": [
  {
   "cell_type": "code",
   "execution_count": 1,
   "metadata": {},
   "outputs": [],
   "source": [
    "import pandas as pd\n",
    "import numpy as np\n",
    "import os\n",
    "import sys\n",
    "import Bio\n",
    "import epitopepredict as ep"
   ]
  },
  {
   "cell_type": "code",
   "execution_count": 2,
   "metadata": {},
   "outputs": [
    {
     "name": "stdout",
     "output_type": "stream",
     "text": [
      "(87052, 8)\n",
      "(21535, 8)\n"
     ]
    }
   ],
   "source": [
    "train1_sample=pd.read_csv(os.path.join(sys.path[0], \"Analysis/train1_sample.csv\"), index_col=False)\n",
    "print(train1_sample.shape)\n",
    "\n",
    "test1_sample=pd.read_csv(os.path.join(sys.path[0], \"Analysis/test1_sample.csv\"), index_col=False)\n",
    "print(test1_sample.shape)"
   ]
  },
  {
   "cell_type": "code",
   "execution_count": 3,
   "metadata": {},
   "outputs": [],
   "source": [
    "blosum = ep.blosum50\n",
    "\n",
    "def blosum_encode(seq):\n",
    "    #encode a peptide into blosum features\n",
    "    s=list(seq)\n",
    "    x = pd.DataFrame([blosum[i] for i in seq]).reset_index(drop=True)\n",
    "    # show_matrix(x)\n",
    "    e = x.values.flatten()    \n",
    "    return e"
   ]
  },
  {
   "attachments": {},
   "cell_type": "markdown",
   "metadata": {},
   "source": [
    "# Training"
   ]
  },
  {
   "cell_type": "code",
   "execution_count": 20,
   "metadata": {},
   "outputs": [],
   "source": [
    "def blosum_encode_data(train_holdout_df, include_AA, exclude_AA, all_feautre):\n",
    "    # create blosum encoding for MHC\n",
    "    blosum50 = train_holdout_df.drop_duplicates(subset=[\"%s\" %(include_AA)], keep=\"last\").drop(columns=[\"%s\" %(exclude_AA), \"%s_ID\" %(exclude_AA)])\n",
    "    print(blosum50.shape)\n",
    "    X = blosum50[\"%s\" %(include_AA)].apply(lambda x: pd.Series(blosum_encode(x)),1)\n",
    "    print(X.shape)\n",
    "\n",
    "    X = X.add_suffix('_%s' %(include_AA))\n",
    "\n",
    "    \n",
    "\n",
    "    blosum50_2 = pd.concat([blosum50[[\"%s\"%(include_AA), \"%s_ID\"%(include_AA)]], X], axis=1).reset_index(drop=True)\n",
    "    print(blosum50_2.shape)\n",
    "    # return blosum50_2\n",
    "\n",
    "    blosum50_3 = blosum50_2.drop(columns=[\"%s_ID\" %(include_AA)])\n",
    "    \n",
    "    cols=[\"%s\" %(include_AA), \"%s_ID\" %(include_AA), \"Pair_ID\"]\n",
    "    all_feautre_2 = all_feautre[cols]\n",
    "    blosum50_4 = all_feautre_2.merge(blosum50_3, on=[\"%s\" %(include_AA)], how=\"left\")\n",
    "    print(blosum50_4.shape)\n",
    "\n",
    "    return blosum50_2"
   ]
  },
  {
   "cell_type": "code",
   "execution_count": 18,
   "metadata": {},
   "outputs": [
    {
     "name": "stdout",
     "output_type": "stream",
     "text": [
      "(51, 6)\n",
      "(51, 850)\n",
      "(51, 852)\n",
      "(87052, 853)\n",
      "(9611, 6)\n",
      "(9611, 375)\n",
      "(9611, 377)\n",
      "(87052, 378)\n"
     ]
    }
   ],
   "source": [
    "# train\n",
    "train1_MHC_Unique, train1_MHC = blosum_encode_data(train1_sample, \"MHC\", \"Peptide\", train1_sample)\n",
    "train1_Peptide_Unique, train1_Peptide = blosum_encode_data(train1_sample, \"Peptide\", \"MHC\", train1_sample)"
   ]
  },
  {
   "cell_type": "code",
   "execution_count": null,
   "metadata": {},
   "outputs": [],
   "source": [
    "# save MHC and peptide bolusm encoding separately\n",
    "train1_MHC_Unique.to_csv(os.path.join(sys.path[0],\"Analysis/train1_MHC_Unique.csv\"), index=False)\n",
    "train1_Peptide_Unique.to_csv(os.path.join(sys.path[0],\"Analysis/train1_Peptide_Unique.csv\"), index=False)"
   ]
  },
  {
   "cell_type": "code",
   "execution_count": 21,
   "metadata": {},
   "outputs": [
    {
     "name": "stdout",
     "output_type": "stream",
     "text": [
      "(49, 6)\n",
      "(49, 850)\n",
      "(49, 852)\n",
      "(21535, 853)\n",
      "(2778, 6)\n",
      "(2778, 375)\n",
      "(2778, 377)\n",
      "(21535, 378)\n"
     ]
    }
   ],
   "source": [
    "# test\n",
    "test1_MHC_Unique = blosum_encode_data(test1_sample, \"MHC\", \"Peptide\", test1_sample)\n",
    "test1_Peptide_Unique = blosum_encode_data(test1_sample, \"Peptide\", \"MHC\", test1_sample)"
   ]
  },
  {
   "cell_type": "code",
   "execution_count": 27,
   "metadata": {},
   "outputs": [],
   "source": [
    "# save MHC and peptide bolusm encoding separately\n",
    "test1_MHC_Unique.to_csv(os.path.join(sys.path[0],\"Analysis/test1_MHC_Unique.csv\"), index=False)\n",
    "test1_Peptide_Unique.to_csv(os.path.join(sys.path[0],\"Analysis/test1_Peptide_Unique.csv\"), index=False)"
   ]
  },
  {
   "cell_type": "code",
   "execution_count": 23,
   "metadata": {},
   "outputs": [
    {
     "data": {
      "text/plain": [
       "0"
      ]
     },
     "execution_count": 23,
     "metadata": {},
     "output_type": "execute_result"
    }
   ],
   "source": [
    "# check null\n",
    "test1_Peptide_Unique.isnull().sum().sum()"
   ]
  },
  {
   "attachments": {},
   "cell_type": "markdown",
   "metadata": {},
   "source": [
    "### merge MHC and peptide blosum encoding"
   ]
  },
  {
   "cell_type": "code",
   "execution_count": 15,
   "metadata": {},
   "outputs": [
    {
     "name": "stdout",
     "output_type": "stream",
     "text": [
      "(87052, 8) (87052, 858)\n",
      "(87052, 858) (87052, 1233)\n"
     ]
    }
   ],
   "source": [
    "# train data\n",
    "\n",
    "train1_MHC = train1_sample.merge(train1_MHC_Unique.drop(columns=[\"MHC_ID\"]), how=\"left\", on=[\"MHC\"])\n",
    "print(train1_sample.shape, train1_MHC.shape)\n",
    "\n",
    "train1_MHC_Peptide = train1_MHC.merge(train1_Peptide_Unique.drop(columns=[\"Peptide_ID\"]), how=\"left\", on=[\"Peptide\"])\n",
    "print(train1_MHC.shape, train1_MHC_Peptide.shape)\n",
    "\n",
    "train1_MHC_Peptide.to_csv(os.path.join(sys.path[0],\"Analysis/blosum50_train.csv\"), index=False)"
   ]
  },
  {
   "cell_type": "code",
   "execution_count": 28,
   "metadata": {},
   "outputs": [
    {
     "name": "stdout",
     "output_type": "stream",
     "text": [
      "(21535, 8) (21535, 858)\n",
      "(21535, 858) (21535, 1233)\n"
     ]
    }
   ],
   "source": [
    "# test data\n",
    "\n",
    "test1_MHC = test1_sample.merge(test1_MHC_Unique.drop(columns=[\"MHC_ID\"]), how=\"left\", on=[\"MHC\"])\n",
    "print(test1_sample.shape, test1_MHC.shape)\n",
    "\n",
    "test1_MHC_Peptide = test1_MHC.merge(test1_Peptide_Unique.drop(columns=[\"Peptide_ID\"]), how=\"left\", on=[\"Peptide\"])\n",
    "print(test1_MHC.shape, test1_MHC_Peptide.shape)\n",
    "\n",
    "test1_MHC_Peptide.to_csv(os.path.join(sys.path[0],\"Analysis/blosum50_test.csv\"), index=False)"
   ]
  }
 ],
 "metadata": {
  "kernelspec": {
   "display_name": "myenv",
   "language": "python",
   "name": "python3"
  },
  "language_info": {
   "codemirror_mode": {
    "name": "ipython",
    "version": 3
   },
   "file_extension": ".py",
   "mimetype": "text/x-python",
   "name": "python",
   "nbconvert_exporter": "python",
   "pygments_lexer": "ipython3",
   "version": "3.9.7 (default, Sep 16 2021, 08:50:36) \n[Clang 10.0.0 ]"
  },
  "orig_nbformat": 4,
  "vscode": {
   "interpreter": {
    "hash": "fe32b506a41fd6e547419893516eb0475b202c6663ab6a0e062f20e9f3dc1f92"
   }
  }
 },
 "nbformat": 4,
 "nbformat_minor": 2
}
